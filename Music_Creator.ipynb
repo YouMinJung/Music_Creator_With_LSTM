{
  "nbformat": 4,
  "nbformat_minor": 0,
  "metadata": {
    "colab": {
      "provenance": [],
      "authorship_tag": "ABX9TyNmR/GTghYx6wg68Ha3h/Lc",
      "include_colab_link": true
    },
    "kernelspec": {
      "name": "python3",
      "display_name": "Python 3"
    },
    "language_info": {
      "name": "python"
    },
    "gpuClass": "standard",
    "accelerator": "GPU"
  },
  "cells": [
    {
      "cell_type": "markdown",
      "metadata": {
        "id": "view-in-github",
        "colab_type": "text"
      },
      "source": [
        "<a href=\"https://colab.research.google.com/github/YouMinJung/Music_Creator_With_LSTM/blob/main/Music_Creator.ipynb\" target=\"_parent\"><img src=\"https://colab.research.google.com/assets/colab-badge.svg\" alt=\"Open In Colab\"/></a>"
      ]
    },
    {
      "cell_type": "code",
      "source": [
        "!nvidia-smi"
      ],
      "metadata": {
        "colab": {
          "base_uri": "https://localhost:8080/"
        },
        "id": "b9sFDEPbTP4v",
        "outputId": "1bc672de-24f0-45a7-d84b-b90e8c8a6b17"
      },
      "execution_count": 1,
      "outputs": [
        {
          "output_type": "stream",
          "name": "stdout",
          "text": [
            "Tue Feb  7 22:56:52 2023       \n",
            "+-----------------------------------------------------------------------------+\n",
            "| NVIDIA-SMI 510.47.03    Driver Version: 510.47.03    CUDA Version: 11.6     |\n",
            "|-------------------------------+----------------------+----------------------+\n",
            "| GPU  Name        Persistence-M| Bus-Id        Disp.A | Volatile Uncorr. ECC |\n",
            "| Fan  Temp  Perf  Pwr:Usage/Cap|         Memory-Usage | GPU-Util  Compute M. |\n",
            "|                               |                      |               MIG M. |\n",
            "|===============================+======================+======================|\n",
            "|   0  Tesla T4            Off  | 00000000:00:04.0 Off |                    0 |\n",
            "| N/A   59C    P0    26W /  70W |      0MiB / 15360MiB |      0%      Default |\n",
            "|                               |                      |                  N/A |\n",
            "+-------------------------------+----------------------+----------------------+\n",
            "                                                                               \n",
            "+-----------------------------------------------------------------------------+\n",
            "| Processes:                                                                  |\n",
            "|  GPU   GI   CI        PID   Type   Process name                  GPU Memory |\n",
            "|        ID   ID                                                   Usage      |\n",
            "|=============================================================================|\n",
            "|  No running processes found                                                 |\n",
            "+-----------------------------------------------------------------------------+\n"
          ]
        }
      ]
    },
    {
      "cell_type": "code",
      "execution_count": 2,
      "metadata": {
        "colab": {
          "base_uri": "https://localhost:8080/"
        },
        "id": "okdmW73XHfEJ",
        "outputId": "55058f9c-b88c-4e8a-e573-6c9248fdfaf2"
      },
      "outputs": [
        {
          "output_type": "stream",
          "name": "stdout",
          "text": [
            "Looking in indexes: https://pypi.org/simple, https://us-python.pkg.dev/colab-wheels/public/simple/\n",
            "Requirement already satisfied: music21 in /usr/local/lib/python3.8/dist-packages (5.5.0)\n"
          ]
        }
      ],
      "source": [
        "!pip install music21"
      ]
    },
    {
      "cell_type": "code",
      "source": [
        "%cd \"midi_songs_dataset\"\n",
        "!unzip -qq \"midi_songs_dataset.zip\"\n",
        "%cd .."
      ],
      "metadata": {
        "id": "kOjuP9scQECW",
        "colab": {
          "base_uri": "https://localhost:8080/"
        },
        "outputId": "9917eba0-89d7-4158-bc50-eff9ae8ded10"
      },
      "execution_count": 3,
      "outputs": [
        {
          "output_type": "stream",
          "name": "stdout",
          "text": [
            "/content/midi_songs_dataset\n",
            "/content\n"
          ]
        }
      ]
    },
    {
      "cell_type": "markdown",
      "source": [
        "## **music creator code**"
      ],
      "metadata": {
        "id": "D65mkuwaiZpQ"
      }
    },
    {
      "cell_type": "code",
      "source": [
        "import glob, pickle\n",
        "import numpy as np\n",
        "from music21 import converter, instrument, note, chord, stream \n",
        "from keras.models import Sequential\n",
        "from keras.layers import Dense, Dropout, LSTM, CuDNNLSTM\n",
        "from keras.utils import np_utils\n",
        "from keras.callbacks import ModelCheckpoint"
      ],
      "metadata": {
        "id": "U05pMLksOAzp"
      },
      "execution_count": 4,
      "outputs": []
    },
    {
      "cell_type": "code",
      "source": [
        "midi = converter.parse(\"midi_songs_dataset/moz1.mid\")\n",
        "\n",
        "notes_to_parse = midi.flat.notes\n",
        "print(np.shape(notes_to_parse))\n",
        "for e in notes_to_parse[:20]:\n",
        "  print(e, e.offset)"
      ],
      "metadata": {
        "colab": {
          "base_uri": "https://localhost:8080/"
        },
        "id": "x0fwoVowPca0",
        "outputId": "9e5499c1-9e96-4bf5-d55b-3739ccde7ab1"
      },
      "execution_count": null,
      "outputs": [
        {
          "output_type": "stream",
          "name": "stdout",
          "text": [
            "(11857,)\n",
            "<music21.chord.Chord G3 B-3> 8.0\n",
            "<music21.note.Note G> 8.0\n",
            "<music21.note.Note G> 8.0\n",
            "<music21.chord.Chord G3 B-3> 8.5\n",
            "<music21.chord.Chord B-3 G4> 9.0\n",
            "<music21.chord.Chord B-3 G4> 9.5\n",
            "<music21.chord.Chord G3 B-3> 10.0\n",
            "<music21.chord.Chord G3 B-3> 10.5\n",
            "<music21.note.Note E-> 11.0\n",
            "<music21.note.Note E-> 11.0\n",
            "<music21.chord.Chord B-3 G4> 11.0\n",
            "<music21.note.Note D> 11.5\n",
            "<music21.note.Note D> 11.5\n",
            "<music21.chord.Chord B-3 G4> 11.5\n",
            "<music21.note.Note D> 12.0\n",
            "<music21.note.Note D> 12.0\n",
            "<music21.chord.Chord B-3 G3> 12.0\n",
            "<music21.note.Note G> 12.0\n",
            "<music21.note.Note G> 12.0\n",
            "<music21.chord.Chord B-3 G3> 12.5\n"
          ]
        },
        {
          "output_type": "stream",
          "name": "stderr",
          "text": [
            "/usr/local/lib/python3.8/dist-packages/numpy/core/fromnumeric.py:1970: VisibleDeprecationWarning: Creating an ndarray from ragged nested sequences (which is a list-or-tuple of lists-or-tuples-or ndarrays with different lengths or shapes) is deprecated. If you meant to do this, you must specify 'dtype=object' when creating the ndarray.\n",
            "  result = asarray(a).shape\n"
          ]
        }
      ]
    },
    {
      "cell_type": "code",
      "source": [
        "notes = []\n",
        "for i,file in enumerate(glob.glob(\"midi_songs_dataset/*.mid\")):\n",
        "  midi = converter.parse(file) \n",
        "  \n",
        "  notes_to_parse = None\n",
        "  try:\n",
        "    parts = instrument.partitionByInstrument(midi)\n",
        "  except TypeError:\n",
        "    print('{} file occur error.'.format(file))\n",
        "\n",
        "  if parts:\n",
        "    notes_to_parse = parts.parts[0].recurse() \n",
        "  else :\n",
        "    notes_to_parse = midi.flat.notes\n",
        "\n",
        "  for e in notes_to_parse:\n",
        "    if isinstance(e, note.Note):\n",
        "      notes.append(str(e.pitch))\n",
        "    elif isinstance(e, chord.Chord):\n",
        "      notes.append('.'.join(str(n) for n in e.normalOrder))\n",
        "\n",
        "print('complete to parse files')"
      ],
      "metadata": {
        "colab": {
          "base_uri": "https://localhost:8080/"
        },
        "id": "OfEw8OCAPoHC",
        "outputId": "4e1bb581-afce-48b5-df02-8ce79223780e"
      },
      "execution_count": 5,
      "outputs": [
        {
          "output_type": "stream",
          "name": "stdout",
          "text": [
            "complete to parse files\n"
          ]
        }
      ]
    },
    {
      "cell_type": "code",
      "source": [
        "seqence_len = 100\n",
        "\n",
        "n_vocab = (len(set(notes)))\n",
        "print('Classes of notes : ', n_vocab, '\\n')\n",
        "\n",
        "print('Notes : ', notes[:10])\n",
        "print('Length of notes : ', len(notes), '\\n') \n",
        "\n",
        "pitchnames = sorted(set(item for item in notes))\n",
        "print('Pitchnames : ', pitchnames[:10])\n",
        "print('Length of pitchnames : ', len(pitchnames), '\\n')\n",
        "\n",
        "note_to_int = dict((note, number) for number, note in enumerate(pitchnames))\n",
        "print('Note To Int : ', note_to_int,  '\\n')\n",
        "\n",
        "net_in = []\n",
        "net_out = []\n",
        "\n",
        "for i in range(0, len(notes) - seqence_len):\n",
        "  seq_in = notes[i:i + seqence_len] \n",
        "  seq_out = notes[i + seqence_len]\n",
        "  \n",
        "  net_in.append([note_to_int[char] for char in seq_in])\n",
        "  net_out.append(note_to_int[seq_out])\n",
        "  \n",
        "print('shape of network_in : ', np.shape(net_in))\n",
        "print('shape of network_out : ', np.shape(net_out))\n",
        "\n",
        "n_patterns = len(net_in)\n",
        "print('n_patterns : ', n_patterns)\n",
        "\n",
        "net_in = np.reshape(net_in, (n_patterns, seqence_len, 1))\n",
        "print('shape of net_in : ', net_in.shape)\n",
        "\n",
        "net_in = net_in / float(n_vocab)\n",
        "net_out = np_utils.to_categorical(net_out)\n",
        "print('shape of net_out : ', net_out.shape)"
      ],
      "metadata": {
        "colab": {
          "base_uri": "https://localhost:8080/"
        },
        "id": "H9YeG7ysSKrA",
        "outputId": "82f19c08-1433-488a-d9ee-e6173b25a6b3"
      },
      "execution_count": 6,
      "outputs": [
        {
          "output_type": "stream",
          "name": "stdout",
          "text": [
            "Classes of notes :  213 \n",
            "\n",
            "Notes :  ['G5', 'D5', 'E-5', 'F#4', 'G4', 'B-5', 'A5', 'G5', 'F#5', 'G5']\n",
            "Length of notes :  72984 \n",
            "\n",
            "Pitchnames :  ['0', '0.2', '0.2.4.7', '0.2.5', '0.2.5.7', '0.2.7', '0.3', '0.3.5', '0.3.6', '0.3.6.9']\n",
            "Length of pitchnames :  213 \n",
            "\n",
            "Note To Int :  {'0': 0, '0.2': 1, '0.2.4.7': 2, '0.2.5': 3, '0.2.5.7': 4, '0.2.7': 5, '0.3': 6, '0.3.5': 7, '0.3.6': 8, '0.3.6.9': 9, '0.4': 10, '0.4.7': 11, '0.5': 12, '0.6': 13, '1': 14, '1.2': 15, '1.4': 16, '1.4.7': 17, '1.4.7.9': 18, '1.4.8': 19, '1.6': 20, '1.7': 21, '10': 22, '10.0': 23, '10.0.2': 24, '10.1': 25, '10.1.4': 26, '10.11': 27, '10.2': 28, '10.3': 29, '11': 30, '11.0': 31, '11.0.4': 32, '11.0.4.7': 33, '11.1': 34, '11.1.4': 35, '11.2': 36, '11.2.4': 37, '11.2.4.7': 38, '11.2.5': 39, '11.2.5.7': 40, '11.2.6': 41, '11.3': 42, '11.4': 43, '2': 44, '2.3': 45, '2.4': 46, '2.4.5.9': 47, '2.4.7': 48, '2.4.8': 49, '2.4.9': 50, '2.5': 51, '2.5.7': 52, '2.5.8': 53, '2.5.8.11': 54, '2.5.9': 55, '2.6': 56, '2.6.7': 57, '2.6.9': 58, '2.7': 59, '2.8': 60, '3': 61, '3.4': 62, '3.5': 63, '3.6': 64, '3.6.9': 65, '3.6.9.11': 66, '3.7': 67, '3.8': 68, '3.9': 69, '4': 70, '4.10': 71, '4.5': 72, '4.5.9': 73, '4.6': 74, '4.6.9': 75, '4.7': 76, '4.7.10': 77, '4.7.10.0': 78, '4.7.11': 79, '4.7.9': 80, '4.8': 81, '4.8.11': 82, '4.9': 83, '5': 84, '5.10': 85, '5.11': 86, '5.6': 87, '5.7': 88, '5.7.0': 89, '5.7.10': 90, '5.7.11': 91, '5.7.9': 92, '5.7.9.0': 93, '5.8': 94, '5.8.11': 95, '5.9': 96, '5.9.0': 97, '5.9.11': 98, '6': 99, '6.10': 100, '6.11': 101, '6.7': 102, '6.8': 103, '6.9': 104, '6.9.0': 105, '6.9.0.2': 106, '6.9.1': 107, '6.9.11': 108, '7': 109, '7.0': 110, '7.10': 111, '7.10.0': 112, '7.10.1': 113, '7.10.2': 114, '7.11': 115, '7.11.0': 116, '7.11.2': 117, '7.8': 118, '7.9': 119, '7.9.0': 120, '7.9.1': 121, '7.9.2': 122, '8': 123, '8.0': 124, '8.1': 125, '8.10': 126, '8.10.2': 127, '8.11': 128, '8.11.2': 129, '8.11.2.4': 130, '8.9': 131, '9': 132, '9.0': 133, '9.0.2': 134, '9.0.2.5': 135, '9.0.4': 136, '9.1': 137, '9.1.2': 138, '9.1.4': 139, '9.10': 140, '9.11': 141, '9.11.2.4': 142, '9.2': 143, 'A1': 144, 'A2': 145, 'A3': 146, 'A4': 147, 'A5': 148, 'A6': 149, 'B-1': 150, 'B-2': 151, 'B-3': 152, 'B-4': 153, 'B-5': 154, 'B-6': 155, 'B1': 156, 'B2': 157, 'B3': 158, 'B4': 159, 'B5': 160, 'C#2': 161, 'C#3': 162, 'C#4': 163, 'C#5': 164, 'C#6': 165, 'C#7': 166, 'C2': 167, 'C3': 168, 'C4': 169, 'C5': 170, 'C6': 171, 'C7': 172, 'D2': 173, 'D3': 174, 'D4': 175, 'D5': 176, 'D6': 177, 'D7': 178, 'E-2': 179, 'E-3': 180, 'E-4': 181, 'E-5': 182, 'E-6': 183, 'E2': 184, 'E3': 185, 'E4': 186, 'E5': 187, 'E6': 188, 'F#1': 189, 'F#2': 190, 'F#3': 191, 'F#4': 192, 'F#5': 193, 'F#6': 194, 'F1': 195, 'F2': 196, 'F3': 197, 'F4': 198, 'F5': 199, 'F6': 200, 'F7': 201, 'G#2': 202, 'G#3': 203, 'G#4': 204, 'G#5': 205, 'G#6': 206, 'G1': 207, 'G2': 208, 'G3': 209, 'G4': 210, 'G5': 211, 'G6': 212} \n",
            "\n",
            "shape of network_in :  (72884, 100)\n",
            "shape of network_out :  (72884,)\n",
            "n_patterns :  72884\n",
            "shape of net_in :  (72884, 100, 1)\n",
            "shape of net_out :  (72884, 213)\n"
          ]
        }
      ]
    },
    {
      "cell_type": "code",
      "source": [
        "model = Sequential(name=\"Music_Creator_LSTM\")\n",
        "model.add(CuDNNLSTM(512, input_shape=(net_in.shape[1], net_in.shape[2]), return_sequences=True))\n",
        "model.add(Dropout(rate=0.3))\n",
        "model.add(CuDNNLSTM(512, return_sequences=True))\n",
        "model.add(Dropout(rate=0.3))\n",
        "model.add(CuDNNLSTM(512))\n",
        "model.add(Dense(256))\n",
        "model.add(Dropout(rate=0.3))\n",
        "model.add(Dense(n_vocab, activation='softmax'))\n",
        "model.compile(loss='categorical_crossentropy', optimizer='adam')\n",
        "model.summary()"
      ],
      "metadata": {
        "colab": {
          "base_uri": "https://localhost:8080/"
        },
        "id": "22dKVbhjSX0m",
        "outputId": "d837e3d5-e418-4ebe-9052-9cda37ca1b7f"
      },
      "execution_count": 7,
      "outputs": [
        {
          "output_type": "stream",
          "name": "stdout",
          "text": [
            "Model: \"Music_Creator_LSTM\"\n",
            "_________________________________________________________________\n",
            " Layer (type)                Output Shape              Param #   \n",
            "=================================================================\n",
            " cu_dnnlstm (CuDNNLSTM)      (None, 100, 512)          1054720   \n",
            "                                                                 \n",
            " dropout (Dropout)           (None, 100, 512)          0         \n",
            "                                                                 \n",
            " cu_dnnlstm_1 (CuDNNLSTM)    (None, 100, 512)          2101248   \n",
            "                                                                 \n",
            " dropout_1 (Dropout)         (None, 100, 512)          0         \n",
            "                                                                 \n",
            " cu_dnnlstm_2 (CuDNNLSTM)    (None, 512)               2101248   \n",
            "                                                                 \n",
            " dense (Dense)               (None, 256)               131328    \n",
            "                                                                 \n",
            " dropout_2 (Dropout)         (None, 256)               0         \n",
            "                                                                 \n",
            " dense_1 (Dense)             (None, 213)               54741     \n",
            "                                                                 \n",
            "=================================================================\n",
            "Total params: 5,443,285\n",
            "Trainable params: 5,443,285\n",
            "Non-trainable params: 0\n",
            "_________________________________________________________________\n"
          ]
        }
      ]
    },
    {
      "cell_type": "code",
      "source": [
        "filepath = \"weights-improvement-{epoch:02d}-{loss:.4f}-bigger.hdf5\"    \n",
        "checkpoint = ModelCheckpoint(\n",
        "    filepath, monitor='loss',\n",
        "    verbose=0,        \n",
        "    save_best_only=True,        \n",
        "    mode='min'\n",
        ")    \n",
        "callbacks_list = [checkpoint] \n",
        "\n",
        "model.fit(net_in, net_out, epochs=70, batch_size=64, callbacks=callbacks_list)"
      ],
      "metadata": {
        "colab": {
          "base_uri": "https://localhost:8080/"
        },
        "id": "boSvMWTZSg8D",
        "outputId": "f9962087-3f71-4545-f720-f2be97590246"
      },
      "execution_count": 8,
      "outputs": [
        {
          "output_type": "stream",
          "name": "stdout",
          "text": [
            "Epoch 1/70\n",
            "1139/1139 [==============================] - 98s 79ms/step - loss: 4.1791\n",
            "Epoch 2/70\n",
            "1139/1139 [==============================] - 90s 79ms/step - loss: 4.0604\n",
            "Epoch 3/70\n",
            "1139/1139 [==============================] - 90s 79ms/step - loss: 4.0063\n",
            "Epoch 4/70\n",
            "1139/1139 [==============================] - 90s 79ms/step - loss: 3.9179\n",
            "Epoch 5/70\n",
            "1139/1139 [==============================] - 90s 79ms/step - loss: 3.7855\n",
            "Epoch 6/70\n",
            "1139/1139 [==============================] - 90s 79ms/step - loss: 3.5896\n",
            "Epoch 7/70\n",
            "1139/1139 [==============================] - 90s 79ms/step - loss: 3.3281\n",
            "Epoch 8/70\n",
            "1139/1139 [==============================] - 90s 79ms/step - loss: 3.0321\n",
            "Epoch 9/70\n",
            "1139/1139 [==============================] - 90s 79ms/step - loss: 2.7218\n",
            "Epoch 10/70\n",
            "1139/1139 [==============================] - 91s 80ms/step - loss: 2.4206\n",
            "Epoch 11/70\n",
            "1139/1139 [==============================] - 91s 80ms/step - loss: 2.1338\n",
            "Epoch 12/70\n",
            "1139/1139 [==============================] - 91s 80ms/step - loss: 1.8818\n",
            "Epoch 13/70\n",
            "1139/1139 [==============================] - 91s 80ms/step - loss: 1.6508\n",
            "Epoch 14/70\n",
            "1139/1139 [==============================] - 91s 80ms/step - loss: 1.4577\n",
            "Epoch 15/70\n",
            "1139/1139 [==============================] - 91s 80ms/step - loss: 1.2764\n",
            "Epoch 16/70\n",
            "1139/1139 [==============================] - 91s 80ms/step - loss: 1.1379\n",
            "Epoch 17/70\n",
            "1139/1139 [==============================] - 91s 80ms/step - loss: 1.0131\n",
            "Epoch 18/70\n",
            "1139/1139 [==============================] - 91s 80ms/step - loss: 0.8975\n",
            "Epoch 19/70\n",
            "1139/1139 [==============================] - 91s 80ms/step - loss: 0.8112\n",
            "Epoch 20/70\n",
            "1139/1139 [==============================] - 91s 80ms/step - loss: 0.7384\n",
            "Epoch 21/70\n",
            "1139/1139 [==============================] - 91s 80ms/step - loss: 0.6656\n",
            "Epoch 22/70\n",
            "1139/1139 [==============================] - 91s 80ms/step - loss: 0.6195\n",
            "Epoch 23/70\n",
            "1139/1139 [==============================] - 91s 80ms/step - loss: 0.5587\n",
            "Epoch 24/70\n",
            "1139/1139 [==============================] - 91s 80ms/step - loss: 0.5328\n",
            "Epoch 25/70\n",
            "1139/1139 [==============================] - 91s 80ms/step - loss: 0.4823\n",
            "Epoch 26/70\n",
            "1139/1139 [==============================] - 91s 80ms/step - loss: 0.4384\n",
            "Epoch 27/70\n",
            "1139/1139 [==============================] - 91s 80ms/step - loss: 0.4294\n",
            "Epoch 28/70\n",
            "1139/1139 [==============================] - 91s 80ms/step - loss: 0.3959\n",
            "Epoch 29/70\n",
            "1139/1139 [==============================] - 91s 80ms/step - loss: 0.3776\n",
            "Epoch 30/70\n",
            "1139/1139 [==============================] - 91s 80ms/step - loss: 0.3614\n",
            "Epoch 31/70\n",
            "1139/1139 [==============================] - 91s 80ms/step - loss: 0.3386\n",
            "Epoch 32/70\n",
            "1139/1139 [==============================] - 91s 80ms/step - loss: 0.3230\n",
            "Epoch 33/70\n",
            "1139/1139 [==============================] - 91s 80ms/step - loss: 0.3134\n",
            "Epoch 34/70\n",
            "1139/1139 [==============================] - 91s 80ms/step - loss: 0.3004\n",
            "Epoch 35/70\n",
            "1139/1139 [==============================] - 91s 80ms/step - loss: 0.2917\n",
            "Epoch 36/70\n",
            "1139/1139 [==============================] - 91s 80ms/step - loss: 0.2710\n",
            "Epoch 37/70\n",
            "1139/1139 [==============================] - 91s 80ms/step - loss: 0.2692\n",
            "Epoch 38/70\n",
            "1139/1139 [==============================] - 91s 80ms/step - loss: 0.2637\n",
            "Epoch 39/70\n",
            "1139/1139 [==============================] - 91s 80ms/step - loss: 0.2481\n",
            "Epoch 40/70\n",
            "1139/1139 [==============================] - 91s 80ms/step - loss: 0.2418\n",
            "Epoch 41/70\n",
            "1139/1139 [==============================] - 91s 80ms/step - loss: 0.2435\n",
            "Epoch 42/70\n",
            "1139/1139 [==============================] - 91s 80ms/step - loss: 0.2375\n",
            "Epoch 43/70\n",
            "1139/1139 [==============================] - 91s 80ms/step - loss: 0.2313\n",
            "Epoch 44/70\n",
            "1139/1139 [==============================] - 91s 80ms/step - loss: 0.2176\n",
            "Epoch 45/70\n",
            "1139/1139 [==============================] - 91s 80ms/step - loss: 0.2165\n",
            "Epoch 46/70\n",
            "1139/1139 [==============================] - 91s 80ms/step - loss: 0.2154\n",
            "Epoch 47/70\n",
            "1139/1139 [==============================] - 91s 80ms/step - loss: 0.2020\n",
            "Epoch 48/70\n",
            "1139/1139 [==============================] - 91s 80ms/step - loss: 0.1949\n",
            "Epoch 49/70\n",
            "1139/1139 [==============================] - 91s 80ms/step - loss: 0.1966\n",
            "Epoch 50/70\n",
            "1139/1139 [==============================] - 91s 80ms/step - loss: 0.2008\n",
            "Epoch 51/70\n",
            "1139/1139 [==============================] - 91s 80ms/step - loss: 0.1954\n",
            "Epoch 52/70\n",
            "1139/1139 [==============================] - 91s 80ms/step - loss: 0.1882\n",
            "Epoch 53/70\n",
            "1139/1139 [==============================] - 91s 80ms/step - loss: 0.1818\n",
            "Epoch 54/70\n",
            "1139/1139 [==============================] - 91s 79ms/step - loss: 0.1840\n",
            "Epoch 55/70\n",
            "1139/1139 [==============================] - 91s 80ms/step - loss: 0.1801\n",
            "Epoch 56/70\n",
            "1139/1139 [==============================] - 91s 80ms/step - loss: 0.1727\n",
            "Epoch 57/70\n",
            "1139/1139 [==============================] - 91s 80ms/step - loss: 0.1707\n",
            "Epoch 58/70\n",
            "1139/1139 [==============================] - 90s 79ms/step - loss: 0.1730\n",
            "Epoch 59/70\n",
            "1139/1139 [==============================] - 90s 79ms/step - loss: 0.1747\n",
            "Epoch 60/70\n",
            "1139/1139 [==============================] - 90s 79ms/step - loss: 0.1656\n",
            "Epoch 61/70\n",
            "1139/1139 [==============================] - 90s 79ms/step - loss: 0.1625\n",
            "Epoch 62/70\n",
            "1139/1139 [==============================] - 90s 79ms/step - loss: 0.1660\n",
            "Epoch 63/70\n",
            "1139/1139 [==============================] - 90s 79ms/step - loss: 0.1599\n",
            "Epoch 64/70\n",
            "1139/1139 [==============================] - 90s 79ms/step - loss: 0.1557\n",
            "Epoch 65/70\n",
            "1139/1139 [==============================] - 90s 79ms/step - loss: 0.1594\n",
            "Epoch 66/70\n",
            "1139/1139 [==============================] - 90s 79ms/step - loss: 0.1511\n",
            "Epoch 67/70\n",
            "1139/1139 [==============================] - 90s 79ms/step - loss: 0.1462\n",
            "Epoch 68/70\n",
            "1139/1139 [==============================] - 90s 79ms/step - loss: 0.1491\n",
            "Epoch 69/70\n",
            "1139/1139 [==============================] - 90s 79ms/step - loss: 0.1697\n",
            "Epoch 70/70\n",
            "1139/1139 [==============================] - 91s 80ms/step - loss: 0.1372\n"
          ]
        },
        {
          "output_type": "execute_result",
          "data": {
            "text/plain": [
              "<keras.callbacks.History at 0x7f572f6cd490>"
            ]
          },
          "metadata": {},
          "execution_count": 8
        }
      ]
    },
    {
      "cell_type": "code",
      "source": [
        "net_in = []\n",
        "output = []\n",
        "\n",
        "for i in range(0, len(notes) - seqence_len, 1):\n",
        "  seq_in = notes[i:i + seqence_len]\n",
        "  seq_out = notes[i + seqence_len]\n",
        "  \n",
        "  net_in.append([note_to_int[char] for char in seq_in])\n",
        "  output.append(note_to_int[seq_out])\n",
        "  \n",
        "n_patterns = len(net_in)"
      ],
      "metadata": {
        "id": "RbcUh8REKKVy"
      },
      "execution_count": 9,
      "outputs": []
    },
    {
      "cell_type": "code",
      "source": [
        "start_seqence = np.random.randint(0, len(net_in)-1)\n",
        "pattern = net_in[start_seqence]\n",
        "print('Random Sequence : ', pattern)\n",
        "\n",
        "int_to_note = dict((number, note) for number, note in enumerate(pitchnames))\n",
        "print('int_to_note : ', int_to_note)"
      ],
      "metadata": {
        "id": "Nb3iSdvhSiqE",
        "colab": {
          "base_uri": "https://localhost:8080/"
        },
        "outputId": "e4a8d8b6-55c0-4f2a-a83e-22322f74627d"
      },
      "execution_count": 10,
      "outputs": [
        {
          "output_type": "stream",
          "name": "stdout",
          "text": [
            "Random Sequence :  [16, 198, 174, 173, 210, 143, 198, 186, 198, 51, 210, 143, 204, 162, 161, 128, 86, 204, 128, 147, 168, 167, 153, 133, 147, 210, 147, 12, 153, 133, 170, 168, 167, 133, 12, 147, 133, 170, 168, 167, 153, 110, 147, 10, 210, 110, 198, 12, 133, 186, 110, 152, 84, 133, 84, 12, 84, 133, 0, 132, 12, 132, 133, 84, 12, 84, 148, 133, 171, 0, 0, 154, 110, 148, 10, 211, 110, 199, 12, 133, 187, 110, 23, 199, 197, 133, 84, 96, 133, 96, 197, 147, 84, 148, 143, 143, 143, 176, 185, 176]\n",
            "int_to_note :  {0: '0', 1: '0.2', 2: '0.2.4.7', 3: '0.2.5', 4: '0.2.5.7', 5: '0.2.7', 6: '0.3', 7: '0.3.5', 8: '0.3.6', 9: '0.3.6.9', 10: '0.4', 11: '0.4.7', 12: '0.5', 13: '0.6', 14: '1', 15: '1.2', 16: '1.4', 17: '1.4.7', 18: '1.4.7.9', 19: '1.4.8', 20: '1.6', 21: '1.7', 22: '10', 23: '10.0', 24: '10.0.2', 25: '10.1', 26: '10.1.4', 27: '10.11', 28: '10.2', 29: '10.3', 30: '11', 31: '11.0', 32: '11.0.4', 33: '11.0.4.7', 34: '11.1', 35: '11.1.4', 36: '11.2', 37: '11.2.4', 38: '11.2.4.7', 39: '11.2.5', 40: '11.2.5.7', 41: '11.2.6', 42: '11.3', 43: '11.4', 44: '2', 45: '2.3', 46: '2.4', 47: '2.4.5.9', 48: '2.4.7', 49: '2.4.8', 50: '2.4.9', 51: '2.5', 52: '2.5.7', 53: '2.5.8', 54: '2.5.8.11', 55: '2.5.9', 56: '2.6', 57: '2.6.7', 58: '2.6.9', 59: '2.7', 60: '2.8', 61: '3', 62: '3.4', 63: '3.5', 64: '3.6', 65: '3.6.9', 66: '3.6.9.11', 67: '3.7', 68: '3.8', 69: '3.9', 70: '4', 71: '4.10', 72: '4.5', 73: '4.5.9', 74: '4.6', 75: '4.6.9', 76: '4.7', 77: '4.7.10', 78: '4.7.10.0', 79: '4.7.11', 80: '4.7.9', 81: '4.8', 82: '4.8.11', 83: '4.9', 84: '5', 85: '5.10', 86: '5.11', 87: '5.6', 88: '5.7', 89: '5.7.0', 90: '5.7.10', 91: '5.7.11', 92: '5.7.9', 93: '5.7.9.0', 94: '5.8', 95: '5.8.11', 96: '5.9', 97: '5.9.0', 98: '5.9.11', 99: '6', 100: '6.10', 101: '6.11', 102: '6.7', 103: '6.8', 104: '6.9', 105: '6.9.0', 106: '6.9.0.2', 107: '6.9.1', 108: '6.9.11', 109: '7', 110: '7.0', 111: '7.10', 112: '7.10.0', 113: '7.10.1', 114: '7.10.2', 115: '7.11', 116: '7.11.0', 117: '7.11.2', 118: '7.8', 119: '7.9', 120: '7.9.0', 121: '7.9.1', 122: '7.9.2', 123: '8', 124: '8.0', 125: '8.1', 126: '8.10', 127: '8.10.2', 128: '8.11', 129: '8.11.2', 130: '8.11.2.4', 131: '8.9', 132: '9', 133: '9.0', 134: '9.0.2', 135: '9.0.2.5', 136: '9.0.4', 137: '9.1', 138: '9.1.2', 139: '9.1.4', 140: '9.10', 141: '9.11', 142: '9.11.2.4', 143: '9.2', 144: 'A1', 145: 'A2', 146: 'A3', 147: 'A4', 148: 'A5', 149: 'A6', 150: 'B-1', 151: 'B-2', 152: 'B-3', 153: 'B-4', 154: 'B-5', 155: 'B-6', 156: 'B1', 157: 'B2', 158: 'B3', 159: 'B4', 160: 'B5', 161: 'C#2', 162: 'C#3', 163: 'C#4', 164: 'C#5', 165: 'C#6', 166: 'C#7', 167: 'C2', 168: 'C3', 169: 'C4', 170: 'C5', 171: 'C6', 172: 'C7', 173: 'D2', 174: 'D3', 175: 'D4', 176: 'D5', 177: 'D6', 178: 'D7', 179: 'E-2', 180: 'E-3', 181: 'E-4', 182: 'E-5', 183: 'E-6', 184: 'E2', 185: 'E3', 186: 'E4', 187: 'E5', 188: 'E6', 189: 'F#1', 190: 'F#2', 191: 'F#3', 192: 'F#4', 193: 'F#5', 194: 'F#6', 195: 'F1', 196: 'F2', 197: 'F3', 198: 'F4', 199: 'F5', 200: 'F6', 201: 'F7', 202: 'G#2', 203: 'G#3', 204: 'G#4', 205: 'G#5', 206: 'G#6', 207: 'G1', 208: 'G2', 209: 'G3', 210: 'G4', 211: 'G5', 212: 'G6'}\n"
          ]
        }
      ]
    },
    {
      "cell_type": "code",
      "source": [
        "prediction_output = []\n",
        "\n",
        "for i in range(0, 250):\n",
        "  pred_in = np.reshape(pattern, (1, len(pattern), 1))\n",
        "  pred_in = pred_in / float(n_vocab)\n",
        "\n",
        "  prediction = model.predict(pred_in, verbose=0)\n",
        "  index = np.argmax(prediction)\n",
        "  result = int_to_note[index]\n",
        "  prediction_output.append(result)\n",
        "  pattern.append(index)\n",
        "  pattern = pattern[1:len(pattern)]\n",
        "\n",
        "  print('\\r', 'Predicted Notes ', i, \" \",result, end='')"
      ],
      "metadata": {
        "id": "Iv3cToO1SlSo",
        "colab": {
          "base_uri": "https://localhost:8080/"
        },
        "outputId": "92d0dac0-1ef4-4c9b-85d6-2cdf1e258810"
      },
      "execution_count": 11,
      "outputs": [
        {
          "output_type": "stream",
          "name": "stdout",
          "text": [
            " Predicted Notes  249   7.11"
          ]
        }
      ]
    },
    {
      "cell_type": "code",
      "source": [
        "offset = 0 \n",
        "output_notes = []\n",
        "\n",
        "for pattern in prediction_output:\n",
        "    \n",
        "    if ('.' in pattern) or pattern.isdigit():\n",
        "        notes_in_chord = pattern.split('.')\n",
        "        \n",
        "        notes = [] \n",
        "        for current_note in notes_in_chord:\n",
        "            new_note = note.Note(int(current_note)) \n",
        "            new_note.storedInstrument = instrument.Piano() \n",
        "            notes.append(new_note) \n",
        "\n",
        "        new_chord = chord.Chord(notes)\n",
        "        new_chord.offset = offset\n",
        "        output_notes.append(new_chord)\n",
        "\n",
        "    else:\n",
        "        new_note = note.Note(pattern)\n",
        "        new_note.offset = offset\n",
        "        new_note.storedInstrument = instrument.Piano()\n",
        "        output_notes.append(new_note)\n",
        "\n",
        "    offset += 0.5\n",
        "\n",
        "midi_stream = stream.Stream(output_notes)\n",
        "midi_stream.write('midi', fp='output/Creator_Output.mid')"
      ],
      "metadata": {
        "id": "FjK0N2mUSrhk",
        "colab": {
          "base_uri": "https://localhost:8080/",
          "height": 35
        },
        "outputId": "0e17e47c-d3f1-439b-8368-94095c1cc252"
      },
      "execution_count": 12,
      "outputs": [
        {
          "output_type": "execute_result",
          "data": {
            "text/plain": [
              "'output/Creator_Output.mid'"
            ],
            "application/vnd.google.colaboratory.intrinsic+json": {
              "type": "string"
            }
          },
          "metadata": {},
          "execution_count": 12
        }
      ]
    },
    {
      "cell_type": "code",
      "source": [
        "model.save('Music_Creator_LSTM_lastver.h5')\n",
        "del model"
      ],
      "metadata": {
        "id": "CeHd0ilPSs_I"
      },
      "execution_count": 13,
      "outputs": []
    },
    {
      "cell_type": "markdown",
      "source": [
        "## **Using Pre-Trained Model**"
      ],
      "metadata": {
        "id": "f3Z1HFvHu5Lg"
      }
    },
    {
      "cell_type": "code",
      "source": [
        "from keras.models import load_model\n",
        "\n",
        "model = load_model('weights-improvement-34-0.3004-bigger.hdf5')\n",
        "#model = load_model('Music_Creator_LSTM_lastver.h5')"
      ],
      "metadata": {
        "id": "RY8jkmUVtsSq"
      },
      "execution_count": 18,
      "outputs": []
    },
    {
      "cell_type": "code",
      "source": [
        "start_seqence = np.random.randint(0, len(net_in)-1)\n",
        "pattern = net_in[start_seqence]\n",
        "int_to_note = dict((number, note) for number, note in enumerate(pitchnames))\n",
        "\n",
        "prediction_output = []\n",
        "\n",
        "for i in range(0, 500):\n",
        "  pred_in = np.reshape(pattern, (1, len(pattern), 1))\n",
        "  pred_in = pred_in / float(n_vocab)\n",
        "\n",
        "  prediction = model.predict(pred_in, verbose=0)\n",
        "  index = np.argmax(prediction)\n",
        "  result = int_to_note[index]\n",
        "  prediction_output.append(result)\n",
        "  pattern.append(index)\n",
        "  pattern = pattern[1:len(pattern)]\n",
        "\n",
        "offset = 0 \n",
        "output_notes = []\n",
        "\n",
        "for pattern in prediction_output:\n",
        "    \n",
        "    if ('.' in pattern) or pattern.isdigit():\n",
        "        notes_in_chord = pattern.split('.')\n",
        "        \n",
        "        notes = [] \n",
        "        for current_note in notes_in_chord:\n",
        "            new_note = note.Note(int(current_note)) \n",
        "            new_note.storedInstrument = instrument.Piano() \n",
        "            notes.append(new_note) \n",
        "\n",
        "        new_chord = chord.Chord(notes)\n",
        "        new_chord.offset = offset\n",
        "        output_notes.append(new_chord)\n",
        "\n",
        "    else:\n",
        "        new_note = note.Note(pattern)\n",
        "        new_note.offset = offset\n",
        "        new_note.storedInstrument = instrument.Piano()\n",
        "        output_notes.append(new_note)\n",
        "\n",
        "    offset += 0.5\n",
        "\n",
        "midi_stream = stream.Stream(output_notes)\n",
        "midi_stream.write('midi', fp='output/Creator_Output.mid')"
      ],
      "metadata": {
        "colab": {
          "base_uri": "https://localhost:8080/",
          "height": 35
        },
        "id": "VZoQhOLlvA_I",
        "outputId": "4e5d052c-a77d-4c17-c6fa-e6b16dd608fe"
      },
      "execution_count": 19,
      "outputs": [
        {
          "output_type": "execute_result",
          "data": {
            "text/plain": [
              "'output/Creator_Output.mid'"
            ],
            "application/vnd.google.colaboratory.intrinsic+json": {
              "type": "string"
            }
          },
          "metadata": {},
          "execution_count": 19
        }
      ]
    }
  ]
}